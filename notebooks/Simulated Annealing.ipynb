{
 "cells": [
  {
   "cell_type": "markdown",
   "metadata": {},
   "source": [
    "#SIMULATED ANNEALING"
   ]
  },
  {
   "cell_type": "markdown",
   "metadata": {},
   "source": [
    "##Problem: find a minimum of a given function\n",
    "\n",
    "The point of simulated annealing is that it performs kind of constrained random search.\n",
    "\n",
    "It is done in few loops. Pseudocode:"
   ]
  },
  {
   "cell_type": "code",
   "execution_count": 4,
   "metadata": {
    "collapsed": false
   },
   "outputs": [],
   "source": [
    "state = random_state()\n",
    "\n",
    "while not is_frozen():\n",
    "    while not is_equilibrium():\n",
    "        new_state = random_move()\n",
    "        if (is_acceptable(new_state)):\n",
    "            state = new_state\n",
    "    reduce_temperature()"
   ]
  },
  {
   "cell_type": "markdown",
   "metadata": {},
   "source": [
    "Parameters that can be distinguished are:\n",
    "\n",
    "* **temperature** - determines probability of acceptance for uphill moves\n",
    "* **acceptance function** - determines criteria for accepting downhill and uphill moves\n",
    "* **cooling schedule** - different ways of reducing the temperature, ie.\n",
    "    * geometric reduction: after reaching each state of equilibrium the temperature is multiplied by a constant $c \\in [0, 1]$\n",
    "* **ways of reaching equilibrium** - how to decide when to reduce the temperature\n",
    "    * constant number of steps between equilibria"
   ]
  },
  {
   "cell_type": "markdown",
   "metadata": {},
   "source": [
    "#Full example"
   ]
  },
  {
   "cell_type": "code",
   "execution_count": 1,
   "metadata": {
    "collapsed": false
   },
   "outputs": [
    {
     "name": "stdout",
     "output_type": "stream",
     "text": [
      "Populating the interactive namespace from numpy and matplotlib\n"
     ]
    }
   ],
   "source": [
    "import matplotlib\n",
    "from pylab import *\n",
    "import numpy as np\n",
    "matplotlib.use('PS')\n",
    "%matplotlib inline\n",
    "%pylab inline\n",
    "import matplotlib.pyplot as plt"
   ]
  },
  {
   "cell_type": "code",
   "execution_count": 2,
   "metadata": {
    "collapsed": false
   },
   "outputs": [
    {
     "data": {
      "text/plain": [
       "[<matplotlib.lines.Line2D at 0xb12aa76c>]"
      ]
     },
     "execution_count": 2,
     "metadata": {},
     "output_type": "execute_result"
    },
    {
     "data": {
      "image/png": "[encoded data removed]",
      "text/plain": [
       "<matplotlib.figure.Figure at 0xb13c036c>"
      ]
     },
     "metadata": {},
     "output_type": "display_data"
    }
   ],
   "source": [
    "def f(x):\n",
    "    return np.exp(np.cos(x)**2) * np.cos(2.5*x)**3 * np.abs(x-5)\n",
    "\n",
    "x = np.linspace(0,10, 1000)\n",
    "y = f(x)\n",
    "plt.plot(x, y)"
   ]
  },
  {
   "cell_type": "code",
   "execution_count": 17,
   "metadata": {
    "collapsed": false
   },
   "outputs": [],
   "source": [
    "import random\n",
    "\n",
    "TEMPERATURE = 10\n",
    "TEMP_REDUCTION_FACTOR = 0.5\n",
    "STEPS_TO_EQUILIBRIUM = 10\n",
    "state = 0.0\n",
    "STEPS = 0\n",
    "\n",
    "def random_state():\n",
    "    return random.random() * 10\n",
    "\n",
    "def random_move():\n",
    "    global TEMPERATURE, state\n",
    "    return random_state()\n",
    "    #return state + (-0.5*random_state()) * 0.1*TEMPERATURE\n",
    "\n",
    "def acc_func(x, new_x):\n",
    "    global TEMPERATURE\n",
    "    return np.exp( (f(x) - f(new_x))/TEMPERATURE )\n",
    "    \n",
    "    \n",
    "def is_acceptable(new_state):\n",
    "    p = random.random()\n",
    "    if f(new_state) < f(state):\n",
    "        return True\n",
    "    elif acc_func(state, new_state) > p:\n",
    "        #print 'acc(', state, ',', new_state,') = ', acc_func(state, new_state)\n",
    "        return True\n",
    "    else:\n",
    "        return False\n",
    "\n",
    "def reduce_temperature():\n",
    "    global TEMPERATURE\n",
    "    TEMPERATURE *= TEMP_REDUCTION_FACTOR\n",
    "    \n",
    "def is_equilibrium():\n",
    "    global STEPS_TO_EQUILIBRIUM\n",
    "    if STEPS_TO_EQUILIBRIUM == 0:\n",
    "        STEPS_TO_EQUILIBRIUM = 10\n",
    "        return True\n",
    "    else:\n",
    "        STEPS_TO_EQUILIBRIUM -= 1\n",
    "        return False\n",
    "\n",
    "def is_frozen():\n",
    "    if TEMPERATURE < 0.01:\n",
    "        return True\n",
    "    else:\n",
    "        return False\n",
    "    \n",
    "def find_minimum():\n",
    "    \"\"\"by simulated annealing\"\"\"\n",
    "    global STEPS, TEMPERATURE, state\n",
    "    state = random_state()\n",
    "\n",
    "    while not is_frozen():\n",
    "        while not is_equilibrium():\n",
    "            new_state = random_move()\n",
    "            if (is_acceptable(new_state)):\n",
    "                #print state, \"--->\", new_state\n",
    "                state = new_state\n",
    "            STEPS += 1\n",
    "        #print TEMPERATURE\n",
    "        reduce_temperature()\n",
    "    return state"
   ]
  },
  {
   "cell_type": "code",
   "execution_count": 18,
   "metadata": {
    "collapsed": false
   },
   "outputs": [
    {
     "name": "stdout",
     "output_type": "stream",
     "text": [
      "8.88792204848 -7.51716061576\n",
      "100\n"
     ]
    },
    {
     "data": {
      "image/png": "[encoded data removed]",
      "text/plain": [
       "<matplotlib.figure.Figure at 0xb0f1812c>"
      ]
     },
     "metadata": {},
     "output_type": "display_data"
    }
   ],
   "source": [
    "min_x = find_minimum()\n",
    "print min_x, f(min_x)\n",
    "y = f(x)\n",
    "plt.plot(x, y)\n",
    "plt.scatter(min_x, f(min_x))\n",
    "print STEPS"
   ]
  },
  {
   "cell_type": "markdown",
   "metadata": {},
   "source": [
    "#Combinatorial problem\n",
    "\n",
    "Suppose we have an ordered set of numbers $S = \\{x_i\\}$ and we want to minimize function:\n",
    "\n",
    "$$\\sum_{i = 0, 2 ..}^{N - 1} |x_i  - x_{i+1}|$$\n",
    "\n",
    "by changing the order of elements in set S."
   ]
  },
  {
   "cell_type": "code",
   "execution_count": 38,
   "metadata": {
    "collapsed": true
   },
   "outputs": [],
   "source": [
    "N_JOINS = 30\n",
    "\n",
    "class Element(object):\n",
    "    def __init__(self, cost):\n",
    "        self.cost = cost\n",
    "        #self.penalties = [random.randint(0, 20)] * N_JOINS\n",
    "    def get_cost(self):\n",
    "        return self.cost"
   ]
  },
  {
   "cell_type": "code",
   "execution_count": 39,
   "metadata": {
    "collapsed": true
   },
   "outputs": [],
   "source": [
    "class Joiner(object):\n",
    "    \n",
    "    def __init__(self, elements):\n",
    "        self.elements = elements\n",
    "        \n",
    "    def calculate_cost(self):\n",
    "        cost = 0\n",
    "        for i in xrange(0, len(self.elements)-1, 2):\n",
    "            \n",
    "            cost += np.abs(self.elements[i].get_cost() - self.elements[i+1].get_cost())\n",
    "            #print cost\n",
    "        return cost"
   ]
  },
  {
   "cell_type": "code",
   "execution_count": 40,
   "metadata": {
    "collapsed": false
   },
   "outputs": [],
   "source": [
    "elements = [ Element(random.randint(0, 20)) for i in xrange(N_JOINS) ]"
   ]
  },
  {
   "cell_type": "code",
   "execution_count": 41,
   "metadata": {
    "collapsed": false
   },
   "outputs": [
    {
     "name": "stdout",
     "output_type": "stream",
     "text": [
      "143\n"
     ]
    }
   ],
   "source": [
    "joiner = Joiner(elements)\n",
    "print joiner.calculate_cost()"
   ]
  },
  {
   "cell_type": "code",
   "execution_count": 42,
   "metadata": {
    "collapsed": false
   },
   "outputs": [],
   "source": [
    "import copy\n",
    "\n",
    "class Optimizer(object):\n",
    "    \n",
    "    def __init__(self, temperature, temp_red_factor, equilibrium_factor):\n",
    "        self.temperature = temperature\n",
    "        self.temp_reduction_factor = temp_red_factor\n",
    "        self.equilibrium_factor = equilibrium_factor\n",
    "        self.steps_to_equilibrium = 50\n",
    "        self.current_step = 0\n",
    "        self.states = []\n",
    "        \n",
    "    def find_min(self, sequence):\n",
    "        \"\"\"by simulated annealing\"\"\"\n",
    "        self.state = self.random_state(sequence)\n",
    "\n",
    "        while not self.is_frozen():\n",
    "            while not self.is_equilibrium():\n",
    "                new_state = self.random_move(sequence)\n",
    "                if (self.acceptable(new_state)):\n",
    "                    self.state = copy.deepcopy(new_state)\n",
    "            self.states.append(copy.deepcopy(self.state))\n",
    "            self.reduce_temperature()\n",
    "        return self.state\n",
    "    \n",
    "    def random_state(self, sequence):\n",
    "        random.shuffle(sequence)\n",
    "        return sequence\n",
    "    \n",
    "    def is_frozen(self):\n",
    "        return self.temperature < 0.1\n",
    "\n",
    "    def is_equilibrium(self):\n",
    "        self.current_step += 1\n",
    "        return self.current_step % self.steps_to_equilibrium == 0\n",
    "    \n",
    "    def random_move(self, sequence):\n",
    "        return self.random_state(sequence)\n",
    "    \n",
    "    def acceptable(self, new_state):\n",
    "        p = random.random()\n",
    "        old_cost = Joiner(self.state).calculate_cost()\n",
    "        new_cost = Joiner(new_state).calculate_cost()\n",
    "        if new_cost < old_cost:\n",
    "            return True\n",
    "        elif self.acc_func(old_cost, new_cost) > p:\n",
    "            #print 'acc(,) = ', self.acc_func(old_cost, new_cost)\n",
    "            return True\n",
    "        else:\n",
    "            return False\n",
    "    \n",
    "    def acc_func(self, x, new_x):\n",
    "        #print x, new_x, self.temperature\n",
    "        return np.exp( (x - new_x)/self.temperature )\n",
    "    \n",
    "    def reduce_temperature(self):\n",
    "        self.temperature *= self.temp_reduction_factor"
   ]
  },
  {
   "cell_type": "code",
   "execution_count": 43,
   "metadata": {
    "collapsed": false
   },
   "outputs": [
    {
     "name": "stdout",
     "output_type": "stream",
     "text": [
      "Minimal cost =  35\n",
      "68950\n"
     ]
    }
   ],
   "source": [
    "optimizer = Optimizer(temperature=100, temp_red_factor=0.995, equilibrium_factor=0)\n",
    "optimized_order = optimizer.find_min(elements)\n",
    "print \"Minimal cost = \", Joiner(optimized_order).calculate_cost()\n",
    "print \"steps: \", optimizer.current_step"
   ]
  },
  {
   "cell_type": "code",
   "execution_count": 44,
   "metadata": {
    "collapsed": false
   },
   "outputs": [
    {
     "data": {
      "text/plain": [
       "[<matplotlib.lines.Line2D at 0xb0991e4c>]"
      ]
     },
     "execution_count": 44,
     "metadata": {},
     "output_type": "execute_result"
    },
    {
     "data": {
      "image/png": "[encoded data removed]",
      "text/plain": [
       "<matplotlib.figure.Figure at 0xb0e8cb6c>"
      ]
     },
     "metadata": {},
     "output_type": "display_data"
    }
   ],
   "source": [
    "costs = [Joiner(state).calculate_cost() for state in optimizer.states]\n",
    "plt.plot(costs)\n",
    "#print costs"
   ]
  },
  {
   "cell_type": "code",
   "execution_count": 45,
   "metadata": {
    "collapsed": false
   },
   "outputs": [
    {
     "data": {
      "text/plain": [
       "[<matplotlib.lines.Line2D at 0xb09664ac>]"
      ]
     },
     "execution_count": 45,
     "metadata": {},
     "output_type": "execute_result"
    },
    {
     "data": {
      "image/png": "[encoded data removed]",
      "text/plain": [
       "<matplotlib.figure.Figure at 0xb09732ac>"
      ]
     },
     "metadata": {},
     "output_type": "display_data"
    }
   ],
   "source": [
    "plt.plot([x.get_cost() for x in optimizer.states[-1]])"
   ]
  },
  {
   "cell_type": "markdown",
   "metadata": {},
   "source": [
    "It can be easily verified how far the algorithm was from the optimial solution"
   ]
  },
  {
   "cell_type": "code",
   "execution_count": 48,
   "metadata": {
    "collapsed": false
   },
   "outputs": [
    {
     "name": "stdout",
     "output_type": "stream",
     "text": [
      "Best result: 13\n"
     ]
    }
   ],
   "source": [
    "sorted_elements = sorted(elements, key=lambda e:e.get_cost())\n",
    "cost = Joiner(sorted_elements).calculate_cost()\n",
    "print \"Best result:\", cost"
   ]
  },
  {
   "cell_type": "code",
   "execution_count": null,
   "metadata": {
    "collapsed": true
   },
   "outputs": [],
   "source": []
  }
 ],
 "metadata": {
  "kernelspec": {
   "display_name": "Python 2",
   "language": "python",
   "name": "python2"
  },
  "language_info": {
   "codemirror_mode": {
    "name": "ipython",
    "version": 2
   },
   "file_extension": ".py",
   "mimetype": "text/x-python",
   "name": "python",
   "nbconvert_exporter": "python",
   "pygments_lexer": "ipython2",
   "version": "2.7.6"
  }
 },
 "nbformat": 4,
 "nbformat_minor": 0
}
